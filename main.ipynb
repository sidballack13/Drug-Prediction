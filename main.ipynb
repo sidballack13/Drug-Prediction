{
 "cells": [
  {
   "cell_type": "markdown",
   "id": "8e7d07f4-da32-445e-b156-62bc194e85d1",
   "metadata": {},
   "source": [
    "<font size=\"5\">Importing Libraries</font>"
   ]
  },
  {
   "cell_type": "code",
   "execution_count": 149,
   "id": "b4e4bf86-25b8-407b-9873-ccde52d6073d",
   "metadata": {},
   "outputs": [],
   "source": [
    "import pandas as pd\n",
    "import numpy as np\n",
    "import matplotlib.pyplot as plt\n",
    "from sklearn.decomposition import PCA, TruncatedSVD\n",
    "from sklearn.tree import DecisionTreeClassifier\n",
    "from sklearn.ensemble import RandomForestClassifier,AdaBoostClassifier\n",
    "from sklearn.metrics import accuracy_score, classification_report , confusion_matrix , roc_auc_score, roc_curve\n",
    "from sklearn.neighbors import KNeighborsClassifier\n",
    "from sklearn.model_selection import train_test_split, RandomizedSearchCV, GridSearchCV, cross_val_score\n",
    "from sklearn.linear_model import LogisticRegression\n",
    "from sklearn.svm import SVC\n",
    "from scipy.stats import randin\n",
    "import xgboost\n",
    "from xgboost import XGBClassifier"
   ]
  },
  {
   "cell_type": "markdown",
   "id": "fe927e16-e2ea-42d2-b7bf-ed122fbfde90",
   "metadata": {},
   "source": [
    "<font size=\"5\">Reading Data from Train File and Basic Preprocessing</font>"
   ]
  },
  {
   "cell_type": "code",
   "execution_count": 150,
   "id": "6be0186d-b105-4669-84c8-4df834ce3e71",
   "metadata": {},
   "outputs": [],
   "source": [
    "train_data = []\n",
    "with open(\"train.dat\", \"r\") as train_file:\n",
    "  train_data = train_file.readlines()"
   ]
  },
  {
   "cell_type": "code",
   "execution_count": 151,
   "id": "54144c4e-040f-4f04-9651-b946429961dd",
   "metadata": {},
   "outputs": [],
   "source": [
    "train_labels = []\n",
    "train_features = []\n",
    "for i in train_data:\n",
    "  train_labels.append(int(i.split('\\t')[0]))\n",
    "  train_features.append(i.split('\\t')[1])"
   ]
  },
  {
   "cell_type": "code",
   "execution_count": 152,
   "id": "a3bbecdc-ab9f-4846-8670-41dd69941975",
   "metadata": {},
   "outputs": [],
   "source": [
    "train_df = pd.DataFrame()\n",
    "trainLabels_df = pd.DataFrame()\n",
    "train_df['features'] = train_features\n",
    "trainLabels_df['labels'] = train_labels"
   ]
  },
  {
   "cell_type": "code",
   "execution_count": 153,
   "id": "0e2a6387-5fe3-4cb0-9e40-a0fe7810dbf2",
   "metadata": {},
   "outputs": [
    {
     "data": {
      "text/html": [
       "<div>\n",
       "<style scoped>\n",
       "    .dataframe tbody tr th:only-of-type {\n",
       "        vertical-align: middle;\n",
       "    }\n",
       "\n",
       "    .dataframe tbody tr th {\n",
       "        vertical-align: top;\n",
       "    }\n",
       "\n",
       "    .dataframe thead th {\n",
       "        text-align: right;\n",
       "    }\n",
       "</style>\n",
       "<table border=\"1\" class=\"dataframe\">\n",
       "  <thead>\n",
       "    <tr style=\"text-align: right;\">\n",
       "      <th></th>\n",
       "      <th>0</th>\n",
       "      <th>1</th>\n",
       "      <th>2</th>\n",
       "      <th>3</th>\n",
       "      <th>4</th>\n",
       "      <th>5</th>\n",
       "      <th>6</th>\n",
       "      <th>7</th>\n",
       "      <th>8</th>\n",
       "      <th>9</th>\n",
       "      <th>...</th>\n",
       "      <th>6051</th>\n",
       "      <th>6052</th>\n",
       "      <th>6053</th>\n",
       "      <th>6054</th>\n",
       "      <th>6055</th>\n",
       "      <th>6056</th>\n",
       "      <th>6057</th>\n",
       "      <th>6058</th>\n",
       "      <th>6059</th>\n",
       "      <th>6060</th>\n",
       "    </tr>\n",
       "  </thead>\n",
       "  <tbody>\n",
       "    <tr>\n",
       "      <th>0</th>\n",
       "      <td>191.0</td>\n",
       "      <td>367.0</td>\n",
       "      <td>614.0</td>\n",
       "      <td>634.0</td>\n",
       "      <td>711.0</td>\n",
       "      <td>1202.0</td>\n",
       "      <td>1220.0</td>\n",
       "      <td>1311.0</td>\n",
       "      <td>1472.0</td>\n",
       "      <td>1730.0</td>\n",
       "      <td>...</td>\n",
       "      <td>0.0</td>\n",
       "      <td>0.0</td>\n",
       "      <td>0.0</td>\n",
       "      <td>0.0</td>\n",
       "      <td>0.0</td>\n",
       "      <td>0.0</td>\n",
       "      <td>0.0</td>\n",
       "      <td>0.0</td>\n",
       "      <td>0.0</td>\n",
       "      <td>0.0</td>\n",
       "    </tr>\n",
       "    <tr>\n",
       "      <th>1</th>\n",
       "      <td>118.0</td>\n",
       "      <td>307.0</td>\n",
       "      <td>367.0</td>\n",
       "      <td>478.0</td>\n",
       "      <td>505.0</td>\n",
       "      <td>512.0</td>\n",
       "      <td>807.0</td>\n",
       "      <td>878.0</td>\n",
       "      <td>939.0</td>\n",
       "      <td>1024.0</td>\n",
       "      <td>...</td>\n",
       "      <td>0.0</td>\n",
       "      <td>0.0</td>\n",
       "      <td>0.0</td>\n",
       "      <td>0.0</td>\n",
       "      <td>0.0</td>\n",
       "      <td>0.0</td>\n",
       "      <td>0.0</td>\n",
       "      <td>0.0</td>\n",
       "      <td>0.0</td>\n",
       "      <td>0.0</td>\n",
       "    </tr>\n",
       "    <tr>\n",
       "      <th>2</th>\n",
       "      <td>10.0</td>\n",
       "      <td>184.0</td>\n",
       "      <td>284.0</td>\n",
       "      <td>297.0</td>\n",
       "      <td>320.0</td>\n",
       "      <td>375.0</td>\n",
       "      <td>445.0</td>\n",
       "      <td>588.0</td>\n",
       "      <td>658.0</td>\n",
       "      <td>1108.0</td>\n",
       "      <td>...</td>\n",
       "      <td>0.0</td>\n",
       "      <td>0.0</td>\n",
       "      <td>0.0</td>\n",
       "      <td>0.0</td>\n",
       "      <td>0.0</td>\n",
       "      <td>0.0</td>\n",
       "      <td>0.0</td>\n",
       "      <td>0.0</td>\n",
       "      <td>0.0</td>\n",
       "      <td>0.0</td>\n",
       "    </tr>\n",
       "    <tr>\n",
       "      <th>3</th>\n",
       "      <td>87.0</td>\n",
       "      <td>149.0</td>\n",
       "      <td>433.0</td>\n",
       "      <td>704.0</td>\n",
       "      <td>711.0</td>\n",
       "      <td>892.0</td>\n",
       "      <td>988.0</td>\n",
       "      <td>1056.0</td>\n",
       "      <td>1070.0</td>\n",
       "      <td>1234.0</td>\n",
       "      <td>...</td>\n",
       "      <td>0.0</td>\n",
       "      <td>0.0</td>\n",
       "      <td>0.0</td>\n",
       "      <td>0.0</td>\n",
       "      <td>0.0</td>\n",
       "      <td>0.0</td>\n",
       "      <td>0.0</td>\n",
       "      <td>0.0</td>\n",
       "      <td>0.0</td>\n",
       "      <td>0.0</td>\n",
       "    </tr>\n",
       "    <tr>\n",
       "      <th>4</th>\n",
       "      <td>84.0</td>\n",
       "      <td>118.0</td>\n",
       "      <td>279.0</td>\n",
       "      <td>316.0</td>\n",
       "      <td>435.0</td>\n",
       "      <td>505.0</td>\n",
       "      <td>584.0</td>\n",
       "      <td>629.0</td>\n",
       "      <td>849.0</td>\n",
       "      <td>1029.0</td>\n",
       "      <td>...</td>\n",
       "      <td>0.0</td>\n",
       "      <td>0.0</td>\n",
       "      <td>0.0</td>\n",
       "      <td>0.0</td>\n",
       "      <td>0.0</td>\n",
       "      <td>0.0</td>\n",
       "      <td>0.0</td>\n",
       "      <td>0.0</td>\n",
       "      <td>0.0</td>\n",
       "      <td>0.0</td>\n",
       "    </tr>\n",
       "  </tbody>\n",
       "</table>\n",
       "<p>5 rows × 6061 columns</p>\n",
       "</div>"
      ],
      "text/plain": [
       "    0      1      2      3      4       5       6       7       8       9     \\\n",
       "0  191.0  367.0  614.0  634.0  711.0  1202.0  1220.0  1311.0  1472.0  1730.0   \n",
       "1  118.0  307.0  367.0  478.0  505.0   512.0   807.0   878.0   939.0  1024.0   \n",
       "2   10.0  184.0  284.0  297.0  320.0   375.0   445.0   588.0   658.0  1108.0   \n",
       "3   87.0  149.0  433.0  704.0  711.0   892.0   988.0  1056.0  1070.0  1234.0   \n",
       "4   84.0  118.0  279.0  316.0  435.0   505.0   584.0   629.0   849.0  1029.0   \n",
       "\n",
       "   ...  6051  6052  6053  6054  6055  6056  6057  6058  6059  6060  \n",
       "0  ...   0.0   0.0   0.0   0.0   0.0   0.0   0.0   0.0   0.0   0.0  \n",
       "1  ...   0.0   0.0   0.0   0.0   0.0   0.0   0.0   0.0   0.0   0.0  \n",
       "2  ...   0.0   0.0   0.0   0.0   0.0   0.0   0.0   0.0   0.0   0.0  \n",
       "3  ...   0.0   0.0   0.0   0.0   0.0   0.0   0.0   0.0   0.0   0.0  \n",
       "4  ...   0.0   0.0   0.0   0.0   0.0   0.0   0.0   0.0   0.0   0.0  \n",
       "\n",
       "[5 rows x 6061 columns]"
      ]
     },
     "execution_count": 153,
     "metadata": {},
     "output_type": "execute_result"
    }
   ],
   "source": [
    "train_df = train_df.features.str.split(expand=True).astype(float)\n",
    "train_df.apply(lambda x: x.replace(np.NaN, 0, inplace = True))\n",
    "train_df.head()"
   ]
  },
  {
   "cell_type": "markdown",
   "id": "5fdfe27c-878b-49b3-84d9-91841d719e4e",
   "metadata": {},
   "source": [
    "<font size=\"5\">Creating Sparse Matrix for Train Data Set </font>"
   ]
  },
  {
   "cell_type": "code",
   "execution_count": 154,
   "id": "457b6308-bd19-4dfe-b170-99244847cb97",
   "metadata": {},
   "outputs": [
    {
     "name": "stderr",
     "output_type": "stream",
     "text": [
      "<>:6: SyntaxWarning: \"is not\" with a literal. Did you mean \"!=\"?\n",
      "<>:6: SyntaxWarning: \"is not\" with a literal. Did you mean \"!=\"?\n",
      "<ipython-input-154-ec97b45ca246>:6: SyntaxWarning: \"is not\" with a literal. Did you mean \"!=\"?\n",
      "  if x is not 0:\n"
     ]
    }
   ],
   "source": [
    "td = train_df.to_numpy()\n",
    "sparse_train_matrix = [[0 for i in range(100000)] for j in range(800)] \n",
    "for i in range(800):\n",
    "  for j in range(6061):\n",
    "    x = int(td[i][j])\n",
    "    if x is not 0:\n",
    "      sparse_train_matrix[i][x-1] = 1"
   ]
  },
  {
   "cell_type": "code",
   "execution_count": 155,
   "id": "66db489e-acbd-4704-bf46-bb4f1bfea2d9",
   "metadata": {},
   "outputs": [
    {
     "data": {
      "text/html": [
       "<div>\n",
       "<style scoped>\n",
       "    .dataframe tbody tr th:only-of-type {\n",
       "        vertical-align: middle;\n",
       "    }\n",
       "\n",
       "    .dataframe tbody tr th {\n",
       "        vertical-align: top;\n",
       "    }\n",
       "\n",
       "    .dataframe thead th {\n",
       "        text-align: right;\n",
       "    }\n",
       "</style>\n",
       "<table border=\"1\" class=\"dataframe\">\n",
       "  <thead>\n",
       "    <tr style=\"text-align: right;\">\n",
       "      <th></th>\n",
       "      <th>0</th>\n",
       "      <th>1</th>\n",
       "      <th>2</th>\n",
       "      <th>3</th>\n",
       "      <th>4</th>\n",
       "      <th>5</th>\n",
       "      <th>6</th>\n",
       "      <th>7</th>\n",
       "      <th>8</th>\n",
       "      <th>9</th>\n",
       "      <th>...</th>\n",
       "      <th>99990</th>\n",
       "      <th>99991</th>\n",
       "      <th>99992</th>\n",
       "      <th>99993</th>\n",
       "      <th>99994</th>\n",
       "      <th>99995</th>\n",
       "      <th>99996</th>\n",
       "      <th>99997</th>\n",
       "      <th>99998</th>\n",
       "      <th>99999</th>\n",
       "    </tr>\n",
       "  </thead>\n",
       "  <tbody>\n",
       "    <tr>\n",
       "      <th>0</th>\n",
       "      <td>0</td>\n",
       "      <td>0</td>\n",
       "      <td>0</td>\n",
       "      <td>0</td>\n",
       "      <td>0</td>\n",
       "      <td>0</td>\n",
       "      <td>0</td>\n",
       "      <td>0</td>\n",
       "      <td>0</td>\n",
       "      <td>0</td>\n",
       "      <td>...</td>\n",
       "      <td>0</td>\n",
       "      <td>0</td>\n",
       "      <td>0</td>\n",
       "      <td>0</td>\n",
       "      <td>0</td>\n",
       "      <td>0</td>\n",
       "      <td>0</td>\n",
       "      <td>1</td>\n",
       "      <td>0</td>\n",
       "      <td>0</td>\n",
       "    </tr>\n",
       "    <tr>\n",
       "      <th>1</th>\n",
       "      <td>0</td>\n",
       "      <td>0</td>\n",
       "      <td>0</td>\n",
       "      <td>0</td>\n",
       "      <td>0</td>\n",
       "      <td>0</td>\n",
       "      <td>0</td>\n",
       "      <td>0</td>\n",
       "      <td>0</td>\n",
       "      <td>0</td>\n",
       "      <td>...</td>\n",
       "      <td>0</td>\n",
       "      <td>0</td>\n",
       "      <td>0</td>\n",
       "      <td>0</td>\n",
       "      <td>0</td>\n",
       "      <td>0</td>\n",
       "      <td>0</td>\n",
       "      <td>0</td>\n",
       "      <td>0</td>\n",
       "      <td>0</td>\n",
       "    </tr>\n",
       "    <tr>\n",
       "      <th>2</th>\n",
       "      <td>0</td>\n",
       "      <td>0</td>\n",
       "      <td>0</td>\n",
       "      <td>0</td>\n",
       "      <td>0</td>\n",
       "      <td>0</td>\n",
       "      <td>0</td>\n",
       "      <td>0</td>\n",
       "      <td>0</td>\n",
       "      <td>1</td>\n",
       "      <td>...</td>\n",
       "      <td>0</td>\n",
       "      <td>0</td>\n",
       "      <td>0</td>\n",
       "      <td>0</td>\n",
       "      <td>0</td>\n",
       "      <td>0</td>\n",
       "      <td>0</td>\n",
       "      <td>0</td>\n",
       "      <td>0</td>\n",
       "      <td>0</td>\n",
       "    </tr>\n",
       "    <tr>\n",
       "      <th>3</th>\n",
       "      <td>0</td>\n",
       "      <td>0</td>\n",
       "      <td>0</td>\n",
       "      <td>0</td>\n",
       "      <td>0</td>\n",
       "      <td>0</td>\n",
       "      <td>0</td>\n",
       "      <td>0</td>\n",
       "      <td>0</td>\n",
       "      <td>0</td>\n",
       "      <td>...</td>\n",
       "      <td>0</td>\n",
       "      <td>0</td>\n",
       "      <td>0</td>\n",
       "      <td>0</td>\n",
       "      <td>0</td>\n",
       "      <td>0</td>\n",
       "      <td>0</td>\n",
       "      <td>0</td>\n",
       "      <td>0</td>\n",
       "      <td>0</td>\n",
       "    </tr>\n",
       "    <tr>\n",
       "      <th>4</th>\n",
       "      <td>0</td>\n",
       "      <td>0</td>\n",
       "      <td>0</td>\n",
       "      <td>0</td>\n",
       "      <td>0</td>\n",
       "      <td>0</td>\n",
       "      <td>0</td>\n",
       "      <td>0</td>\n",
       "      <td>0</td>\n",
       "      <td>0</td>\n",
       "      <td>...</td>\n",
       "      <td>0</td>\n",
       "      <td>0</td>\n",
       "      <td>0</td>\n",
       "      <td>0</td>\n",
       "      <td>0</td>\n",
       "      <td>0</td>\n",
       "      <td>0</td>\n",
       "      <td>0</td>\n",
       "      <td>0</td>\n",
       "      <td>1</td>\n",
       "    </tr>\n",
       "  </tbody>\n",
       "</table>\n",
       "<p>5 rows × 100000 columns</p>\n",
       "</div>"
      ],
      "text/plain": [
       "   0      1      2      3      4      5      6      7      8      9      ...  \\\n",
       "0      0      0      0      0      0      0      0      0      0      0  ...   \n",
       "1      0      0      0      0      0      0      0      0      0      0  ...   \n",
       "2      0      0      0      0      0      0      0      0      0      1  ...   \n",
       "3      0      0      0      0      0      0      0      0      0      0  ...   \n",
       "4      0      0      0      0      0      0      0      0      0      0  ...   \n",
       "\n",
       "   99990  99991  99992  99993  99994  99995  99996  99997  99998  99999  \n",
       "0      0      0      0      0      0      0      0      1      0      0  \n",
       "1      0      0      0      0      0      0      0      0      0      0  \n",
       "2      0      0      0      0      0      0      0      0      0      0  \n",
       "3      0      0      0      0      0      0      0      0      0      0  \n",
       "4      0      0      0      0      0      0      0      0      0      1  \n",
       "\n",
       "[5 rows x 100000 columns]"
      ]
     },
     "execution_count": 155,
     "metadata": {},
     "output_type": "execute_result"
    }
   ],
   "source": [
    "train_sparse_df = pd.DataFrame(sparse_train_matrix)\n",
    "train_sparse_df.head()"
   ]
  },
  {
   "cell_type": "code",
   "execution_count": 164,
   "id": "1de0b0e1-7531-4a60-bacf-503b8e107885",
   "metadata": {},
   "outputs": [
    {
     "data": {
      "text/plain": [
       "(800, 100000)"
      ]
     },
     "execution_count": 164,
     "metadata": {},
     "output_type": "execute_result"
    }
   ],
   "source": [
    "train_sparse_df = np.array(sparse_train_matrix)\n",
    "train_sparse_df.shape"
   ]
  },
  {
   "cell_type": "markdown",
   "id": "53a8b2ce-0872-4936-ad10-d43f8eca0d68",
   "metadata": {},
   "source": [
    "<font size=\"5\">Reading Data from Test File and Basic Preprocessing</font>"
   ]
  },
  {
   "cell_type": "code",
   "execution_count": 165,
   "id": "0b70e6ca-1426-40f5-bdc4-0bf1cd411df5",
   "metadata": {},
   "outputs": [],
   "source": [
    "test_data = []\n",
    "with open(\"test.dat\", \"r\") as test_file:\n",
    "  test_data = test_file.readlines()"
   ]
  },
  {
   "cell_type": "code",
   "execution_count": 166,
   "id": "f9dc226f-9041-4b51-8ac9-88a1e1007d45",
   "metadata": {},
   "outputs": [
    {
     "data": {
      "text/html": [
       "<div>\n",
       "<style scoped>\n",
       "    .dataframe tbody tr th:only-of-type {\n",
       "        vertical-align: middle;\n",
       "    }\n",
       "\n",
       "    .dataframe tbody tr th {\n",
       "        vertical-align: top;\n",
       "    }\n",
       "\n",
       "    .dataframe thead th {\n",
       "        text-align: right;\n",
       "    }\n",
       "</style>\n",
       "<table border=\"1\" class=\"dataframe\">\n",
       "  <thead>\n",
       "    <tr style=\"text-align: right;\">\n",
       "      <th></th>\n",
       "      <th>features</th>\n",
       "    </tr>\n",
       "  </thead>\n",
       "  <tbody>\n",
       "    <tr>\n",
       "      <th>0</th>\n",
       "      <td>354 386 517 627 646 764 870 915 1364 1502 1731...</td>\n",
       "    </tr>\n",
       "    <tr>\n",
       "      <th>1</th>\n",
       "      <td>23 225 360 394 433 445 1021 1205 1861 2036 208...</td>\n",
       "    </tr>\n",
       "    <tr>\n",
       "      <th>2</th>\n",
       "      <td>103 144 284 309 393 843 915 936 983 1183 1350 ...</td>\n",
       "    </tr>\n",
       "    <tr>\n",
       "      <th>3</th>\n",
       "      <td>13 174 300 307 430 523 546 616 861 1108 1117 1...</td>\n",
       "    </tr>\n",
       "    <tr>\n",
       "      <th>4</th>\n",
       "      <td>585 767 783 1176 1214 1224 1256 1303 1605 2102...</td>\n",
       "    </tr>\n",
       "  </tbody>\n",
       "</table>\n",
       "</div>"
      ],
      "text/plain": [
       "                                            features\n",
       "0  354 386 517 627 646 764 870 915 1364 1502 1731...\n",
       "1  23 225 360 394 433 445 1021 1205 1861 2036 208...\n",
       "2  103 144 284 309 393 843 915 936 983 1183 1350 ...\n",
       "3  13 174 300 307 430 523 546 616 861 1108 1117 1...\n",
       "4  585 767 783 1176 1214 1224 1256 1303 1605 2102..."
      ]
     },
     "execution_count": 166,
     "metadata": {},
     "output_type": "execute_result"
    }
   ],
   "source": [
    "test_df = pd.DataFrame()\n",
    "test_df['features'] = test_data\n",
    "test_df.head()"
   ]
  },
  {
   "cell_type": "code",
   "execution_count": 167,
   "id": "1f72074e-37a3-4e4f-8c29-94294ae9752d",
   "metadata": {},
   "outputs": [
    {
     "data": {
      "text/html": [
       "<div>\n",
       "<style scoped>\n",
       "    .dataframe tbody tr th:only-of-type {\n",
       "        vertical-align: middle;\n",
       "    }\n",
       "\n",
       "    .dataframe tbody tr th {\n",
       "        vertical-align: top;\n",
       "    }\n",
       "\n",
       "    .dataframe thead th {\n",
       "        text-align: right;\n",
       "    }\n",
       "</style>\n",
       "<table border=\"1\" class=\"dataframe\">\n",
       "  <thead>\n",
       "    <tr style=\"text-align: right;\">\n",
       "      <th></th>\n",
       "      <th>0</th>\n",
       "      <th>1</th>\n",
       "      <th>2</th>\n",
       "      <th>3</th>\n",
       "      <th>4</th>\n",
       "      <th>5</th>\n",
       "      <th>6</th>\n",
       "      <th>7</th>\n",
       "      <th>8</th>\n",
       "      <th>9</th>\n",
       "      <th>...</th>\n",
       "      <th>4847</th>\n",
       "      <th>4848</th>\n",
       "      <th>4849</th>\n",
       "      <th>4850</th>\n",
       "      <th>4851</th>\n",
       "      <th>4852</th>\n",
       "      <th>4853</th>\n",
       "      <th>4854</th>\n",
       "      <th>4855</th>\n",
       "      <th>4856</th>\n",
       "    </tr>\n",
       "  </thead>\n",
       "  <tbody>\n",
       "    <tr>\n",
       "      <th>0</th>\n",
       "      <td>354.0</td>\n",
       "      <td>386.0</td>\n",
       "      <td>517.0</td>\n",
       "      <td>627.0</td>\n",
       "      <td>646.0</td>\n",
       "      <td>764.0</td>\n",
       "      <td>870.0</td>\n",
       "      <td>915.0</td>\n",
       "      <td>1364.0</td>\n",
       "      <td>1502.0</td>\n",
       "      <td>...</td>\n",
       "      <td>0.0</td>\n",
       "      <td>0.0</td>\n",
       "      <td>0.0</td>\n",
       "      <td>0.0</td>\n",
       "      <td>0.0</td>\n",
       "      <td>0.0</td>\n",
       "      <td>0.0</td>\n",
       "      <td>0.0</td>\n",
       "      <td>0.0</td>\n",
       "      <td>0.0</td>\n",
       "    </tr>\n",
       "    <tr>\n",
       "      <th>1</th>\n",
       "      <td>23.0</td>\n",
       "      <td>225.0</td>\n",
       "      <td>360.0</td>\n",
       "      <td>394.0</td>\n",
       "      <td>433.0</td>\n",
       "      <td>445.0</td>\n",
       "      <td>1021.0</td>\n",
       "      <td>1205.0</td>\n",
       "      <td>1861.0</td>\n",
       "      <td>2036.0</td>\n",
       "      <td>...</td>\n",
       "      <td>0.0</td>\n",
       "      <td>0.0</td>\n",
       "      <td>0.0</td>\n",
       "      <td>0.0</td>\n",
       "      <td>0.0</td>\n",
       "      <td>0.0</td>\n",
       "      <td>0.0</td>\n",
       "      <td>0.0</td>\n",
       "      <td>0.0</td>\n",
       "      <td>0.0</td>\n",
       "    </tr>\n",
       "    <tr>\n",
       "      <th>2</th>\n",
       "      <td>103.0</td>\n",
       "      <td>144.0</td>\n",
       "      <td>284.0</td>\n",
       "      <td>309.0</td>\n",
       "      <td>393.0</td>\n",
       "      <td>843.0</td>\n",
       "      <td>915.0</td>\n",
       "      <td>936.0</td>\n",
       "      <td>983.0</td>\n",
       "      <td>1183.0</td>\n",
       "      <td>...</td>\n",
       "      <td>0.0</td>\n",
       "      <td>0.0</td>\n",
       "      <td>0.0</td>\n",
       "      <td>0.0</td>\n",
       "      <td>0.0</td>\n",
       "      <td>0.0</td>\n",
       "      <td>0.0</td>\n",
       "      <td>0.0</td>\n",
       "      <td>0.0</td>\n",
       "      <td>0.0</td>\n",
       "    </tr>\n",
       "    <tr>\n",
       "      <th>3</th>\n",
       "      <td>13.0</td>\n",
       "      <td>174.0</td>\n",
       "      <td>300.0</td>\n",
       "      <td>307.0</td>\n",
       "      <td>430.0</td>\n",
       "      <td>523.0</td>\n",
       "      <td>546.0</td>\n",
       "      <td>616.0</td>\n",
       "      <td>861.0</td>\n",
       "      <td>1108.0</td>\n",
       "      <td>...</td>\n",
       "      <td>0.0</td>\n",
       "      <td>0.0</td>\n",
       "      <td>0.0</td>\n",
       "      <td>0.0</td>\n",
       "      <td>0.0</td>\n",
       "      <td>0.0</td>\n",
       "      <td>0.0</td>\n",
       "      <td>0.0</td>\n",
       "      <td>0.0</td>\n",
       "      <td>0.0</td>\n",
       "    </tr>\n",
       "    <tr>\n",
       "      <th>4</th>\n",
       "      <td>585.0</td>\n",
       "      <td>767.0</td>\n",
       "      <td>783.0</td>\n",
       "      <td>1176.0</td>\n",
       "      <td>1214.0</td>\n",
       "      <td>1224.0</td>\n",
       "      <td>1256.0</td>\n",
       "      <td>1303.0</td>\n",
       "      <td>1605.0</td>\n",
       "      <td>2102.0</td>\n",
       "      <td>...</td>\n",
       "      <td>0.0</td>\n",
       "      <td>0.0</td>\n",
       "      <td>0.0</td>\n",
       "      <td>0.0</td>\n",
       "      <td>0.0</td>\n",
       "      <td>0.0</td>\n",
       "      <td>0.0</td>\n",
       "      <td>0.0</td>\n",
       "      <td>0.0</td>\n",
       "      <td>0.0</td>\n",
       "    </tr>\n",
       "  </tbody>\n",
       "</table>\n",
       "<p>5 rows × 4857 columns</p>\n",
       "</div>"
      ],
      "text/plain": [
       "    0      1      2       3       4       5       6       7       8     \\\n",
       "0  354.0  386.0  517.0   627.0   646.0   764.0   870.0   915.0  1364.0   \n",
       "1   23.0  225.0  360.0   394.0   433.0   445.0  1021.0  1205.0  1861.0   \n",
       "2  103.0  144.0  284.0   309.0   393.0   843.0   915.0   936.0   983.0   \n",
       "3   13.0  174.0  300.0   307.0   430.0   523.0   546.0   616.0   861.0   \n",
       "4  585.0  767.0  783.0  1176.0  1214.0  1224.0  1256.0  1303.0  1605.0   \n",
       "\n",
       "     9     ...  4847  4848  4849  4850  4851  4852  4853  4854  4855  4856  \n",
       "0  1502.0  ...   0.0   0.0   0.0   0.0   0.0   0.0   0.0   0.0   0.0   0.0  \n",
       "1  2036.0  ...   0.0   0.0   0.0   0.0   0.0   0.0   0.0   0.0   0.0   0.0  \n",
       "2  1183.0  ...   0.0   0.0   0.0   0.0   0.0   0.0   0.0   0.0   0.0   0.0  \n",
       "3  1108.0  ...   0.0   0.0   0.0   0.0   0.0   0.0   0.0   0.0   0.0   0.0  \n",
       "4  2102.0  ...   0.0   0.0   0.0   0.0   0.0   0.0   0.0   0.0   0.0   0.0  \n",
       "\n",
       "[5 rows x 4857 columns]"
      ]
     },
     "execution_count": 167,
     "metadata": {},
     "output_type": "execute_result"
    }
   ],
   "source": [
    "test_df = test_df['features'].str.split(expand=True).astype(float)\n",
    "test_df.apply(lambda x: x.replace(np.NaN, 0, inplace = True))\n",
    "test_df.head()"
   ]
  },
  {
   "cell_type": "markdown",
   "id": "538ad784-ce21-42e2-9fcc-db15d3e4559a",
   "metadata": {},
   "source": [
    "<font size=\"5\">Creating Sparse Matrix for Test Data Set </font>"
   ]
  },
  {
   "cell_type": "code",
   "execution_count": 215,
   "id": "a6068075-4183-49d7-b896-aac8c2abd3ea",
   "metadata": {},
   "outputs": [
    {
     "name": "stderr",
     "output_type": "stream",
     "text": [
      "<>:6: SyntaxWarning: \"is not\" with a literal. Did you mean \"!=\"?\n",
      "<>:6: SyntaxWarning: \"is not\" with a literal. Did you mean \"!=\"?\n",
      "<ipython-input-215-c4c022c07183>:6: SyntaxWarning: \"is not\" with a literal. Did you mean \"!=\"?\n",
      "  if x is not 0:\n"
     ]
    }
   ],
   "source": [
    "sparse_test_matrix = [[0 for x in range(100000)] for y in range(350)]\n",
    "for i in range(350):\n",
    "  for j in range(4857):\n",
    "    x = int(test_df[i][j])\n",
    "    if x is not 0:\n",
    "      sparse_test_matrix[i][x-1] = 1"
   ]
  },
  {
   "cell_type": "code",
   "execution_count": 216,
   "id": "24e3970e-4ad4-44ab-b001-175d04b59d97",
   "metadata": {},
   "outputs": [],
   "source": [
    "test_sparse_df = pd.DataFrame(sparse_test_matrix)"
   ]
  },
  {
   "cell_type": "markdown",
   "id": "4a0c360b-f5c3-4c6e-baa2-786f6d62ea54",
   "metadata": {},
   "source": [
    "<font size=\"5\">Balancing Data imbalance using Smote-Tomec</font>"
   ]
  },
  {
   "cell_type": "code",
   "execution_count": 173,
   "id": "aa6df0e4-cf72-4fff-8002-2889df738da3",
   "metadata": {},
   "outputs": [],
   "source": [
    "# sm = SMOTE(random_state=42,kind='svm')\n",
    "# reduced_features, labels = sm.fit_sample(reduced_features, labels)"
   ]
  },
  {
   "cell_type": "markdown",
   "id": "87d2c163-4fb8-46c6-a2ad-0af1e8d8a9dc",
   "metadata": {},
   "source": [
    "<font size=\"5\">Feature Selection: SVD</font>"
   ]
  },
  {
   "cell_type": "code",
   "execution_count": 174,
   "id": "6731a9f5-3230-4d10-8757-8b2622d6bafe",
   "metadata": {},
   "outputs": [],
   "source": [
    "svd_instance = TruncatedSVD(algorithm='randomized', n_components=800, n_iter=50, random_state=42)\n",
    "svd = svd_instance.fit(train_sparse_df, trainLabels_df)\n",
    "train_svd = svd.transform(train_sparse_df)"
   ]
  },
  {
   "cell_type": "code",
   "execution_count": 175,
   "id": "6fc84512-ce32-4b72-b3a5-f5995fc9815f",
   "metadata": {},
   "outputs": [
    {
     "data": {
      "text/html": [
       "<div>\n",
       "<style scoped>\n",
       "    .dataframe tbody tr th:only-of-type {\n",
       "        vertical-align: middle;\n",
       "    }\n",
       "\n",
       "    .dataframe tbody tr th {\n",
       "        vertical-align: top;\n",
       "    }\n",
       "\n",
       "    .dataframe thead th {\n",
       "        text-align: right;\n",
       "    }\n",
       "</style>\n",
       "<table border=\"1\" class=\"dataframe\">\n",
       "  <thead>\n",
       "    <tr style=\"text-align: right;\">\n",
       "      <th></th>\n",
       "      <th>0</th>\n",
       "      <th>1</th>\n",
       "      <th>2</th>\n",
       "      <th>3</th>\n",
       "      <th>4</th>\n",
       "      <th>5</th>\n",
       "      <th>6</th>\n",
       "      <th>7</th>\n",
       "      <th>8</th>\n",
       "      <th>9</th>\n",
       "      <th>...</th>\n",
       "      <th>790</th>\n",
       "      <th>791</th>\n",
       "      <th>792</th>\n",
       "      <th>793</th>\n",
       "      <th>794</th>\n",
       "      <th>795</th>\n",
       "      <th>796</th>\n",
       "      <th>797</th>\n",
       "      <th>798</th>\n",
       "      <th>799</th>\n",
       "    </tr>\n",
       "  </thead>\n",
       "  <tbody>\n",
       "    <tr>\n",
       "      <th>0</th>\n",
       "      <td>4.209866</td>\n",
       "      <td>-0.733075</td>\n",
       "      <td>-1.570752</td>\n",
       "      <td>-0.766397</td>\n",
       "      <td>-0.393438</td>\n",
       "      <td>0.175756</td>\n",
       "      <td>0.265072</td>\n",
       "      <td>0.055903</td>\n",
       "      <td>0.468170</td>\n",
       "      <td>-0.161659</td>\n",
       "      <td>...</td>\n",
       "      <td>0.271762</td>\n",
       "      <td>-0.571365</td>\n",
       "      <td>-0.434348</td>\n",
       "      <td>0.350460</td>\n",
       "      <td>-1.675651</td>\n",
       "      <td>0.073089</td>\n",
       "      <td>0.301416</td>\n",
       "      <td>0.029130</td>\n",
       "      <td>-1.115207</td>\n",
       "      <td>1.057512</td>\n",
       "    </tr>\n",
       "    <tr>\n",
       "      <th>1</th>\n",
       "      <td>3.864993</td>\n",
       "      <td>-0.452234</td>\n",
       "      <td>-1.629992</td>\n",
       "      <td>-1.057283</td>\n",
       "      <td>-0.210888</td>\n",
       "      <td>-0.019759</td>\n",
       "      <td>0.274282</td>\n",
       "      <td>-0.045534</td>\n",
       "      <td>0.042677</td>\n",
       "      <td>-0.043942</td>\n",
       "      <td>...</td>\n",
       "      <td>-0.263202</td>\n",
       "      <td>2.533338</td>\n",
       "      <td>-0.065902</td>\n",
       "      <td>0.010651</td>\n",
       "      <td>-0.153385</td>\n",
       "      <td>1.523213</td>\n",
       "      <td>-0.665576</td>\n",
       "      <td>-1.098252</td>\n",
       "      <td>-1.519661</td>\n",
       "      <td>-1.041647</td>\n",
       "    </tr>\n",
       "    <tr>\n",
       "      <th>2</th>\n",
       "      <td>3.767743</td>\n",
       "      <td>-0.568984</td>\n",
       "      <td>-1.656248</td>\n",
       "      <td>-0.999098</td>\n",
       "      <td>-0.223674</td>\n",
       "      <td>0.103720</td>\n",
       "      <td>0.485973</td>\n",
       "      <td>0.119731</td>\n",
       "      <td>0.177672</td>\n",
       "      <td>-0.139598</td>\n",
       "      <td>...</td>\n",
       "      <td>1.358940</td>\n",
       "      <td>0.780513</td>\n",
       "      <td>0.126284</td>\n",
       "      <td>0.047748</td>\n",
       "      <td>1.430632</td>\n",
       "      <td>0.019129</td>\n",
       "      <td>-1.060616</td>\n",
       "      <td>-0.760787</td>\n",
       "      <td>-0.449512</td>\n",
       "      <td>-1.703933</td>\n",
       "    </tr>\n",
       "    <tr>\n",
       "      <th>3</th>\n",
       "      <td>3.895825</td>\n",
       "      <td>-0.485487</td>\n",
       "      <td>-1.733745</td>\n",
       "      <td>-0.907969</td>\n",
       "      <td>-0.307753</td>\n",
       "      <td>-0.088896</td>\n",
       "      <td>0.671033</td>\n",
       "      <td>-0.141934</td>\n",
       "      <td>0.011025</td>\n",
       "      <td>0.076621</td>\n",
       "      <td>...</td>\n",
       "      <td>1.272386</td>\n",
       "      <td>2.516159</td>\n",
       "      <td>-0.041876</td>\n",
       "      <td>0.826883</td>\n",
       "      <td>0.879549</td>\n",
       "      <td>-1.138676</td>\n",
       "      <td>-1.049456</td>\n",
       "      <td>-1.259871</td>\n",
       "      <td>0.125262</td>\n",
       "      <td>-1.031144</td>\n",
       "    </tr>\n",
       "    <tr>\n",
       "      <th>4</th>\n",
       "      <td>3.881688</td>\n",
       "      <td>-0.209835</td>\n",
       "      <td>-1.515436</td>\n",
       "      <td>-0.900967</td>\n",
       "      <td>-0.206142</td>\n",
       "      <td>0.018235</td>\n",
       "      <td>0.451900</td>\n",
       "      <td>0.097368</td>\n",
       "      <td>0.044001</td>\n",
       "      <td>-0.103369</td>\n",
       "      <td>...</td>\n",
       "      <td>-1.741662</td>\n",
       "      <td>-0.127360</td>\n",
       "      <td>0.996954</td>\n",
       "      <td>0.499876</td>\n",
       "      <td>0.452512</td>\n",
       "      <td>-0.211526</td>\n",
       "      <td>-0.145132</td>\n",
       "      <td>0.082420</td>\n",
       "      <td>-0.034287</td>\n",
       "      <td>0.572985</td>\n",
       "    </tr>\n",
       "  </tbody>\n",
       "</table>\n",
       "<p>5 rows × 800 columns</p>\n",
       "</div>"
      ],
      "text/plain": [
       "        0         1         2         3         4         5         6    \\\n",
       "0  4.209866 -0.733075 -1.570752 -0.766397 -0.393438  0.175756  0.265072   \n",
       "1  3.864993 -0.452234 -1.629992 -1.057283 -0.210888 -0.019759  0.274282   \n",
       "2  3.767743 -0.568984 -1.656248 -0.999098 -0.223674  0.103720  0.485973   \n",
       "3  3.895825 -0.485487 -1.733745 -0.907969 -0.307753 -0.088896  0.671033   \n",
       "4  3.881688 -0.209835 -1.515436 -0.900967 -0.206142  0.018235  0.451900   \n",
       "\n",
       "        7         8         9    ...       790       791       792       793  \\\n",
       "0  0.055903  0.468170 -0.161659  ...  0.271762 -0.571365 -0.434348  0.350460   \n",
       "1 -0.045534  0.042677 -0.043942  ... -0.263202  2.533338 -0.065902  0.010651   \n",
       "2  0.119731  0.177672 -0.139598  ...  1.358940  0.780513  0.126284  0.047748   \n",
       "3 -0.141934  0.011025  0.076621  ...  1.272386  2.516159 -0.041876  0.826883   \n",
       "4  0.097368  0.044001 -0.103369  ... -1.741662 -0.127360  0.996954  0.499876   \n",
       "\n",
       "        794       795       796       797       798       799  \n",
       "0 -1.675651  0.073089  0.301416  0.029130 -1.115207  1.057512  \n",
       "1 -0.153385  1.523213 -0.665576 -1.098252 -1.519661 -1.041647  \n",
       "2  1.430632  0.019129 -1.060616 -0.760787 -0.449512 -1.703933  \n",
       "3  0.879549 -1.138676 -1.049456 -1.259871  0.125262 -1.031144  \n",
       "4  0.452512 -0.211526 -0.145132  0.082420 -0.034287  0.572985  \n",
       "\n",
       "[5 rows x 800 columns]"
      ]
     },
     "execution_count": 175,
     "metadata": {},
     "output_type": "execute_result"
    }
   ],
   "source": [
    "pd.DataFrame(train_svd).head()"
   ]
  },
  {
   "cell_type": "code",
   "execution_count": 176,
   "id": "954b3c3f-2538-473e-99b3-8f12501e7ce8",
   "metadata": {},
   "outputs": [],
   "source": [
    "var_explained = svd.explained_variance_ratio_.sum()"
   ]
  },
  {
   "cell_type": "code",
   "execution_count": 177,
   "id": "e1017636-ffe0-4f3d-b449-199cf287d0c0",
   "metadata": {},
   "outputs": [
    {
     "name": "stdout",
     "output_type": "stream",
     "text": [
      "0.999999999999998\n"
     ]
    }
   ],
   "source": [
    "print(var_explained)"
   ]
  },
  {
   "cell_type": "code",
   "execution_count": 203,
   "id": "53c1c256-8d95-492d-8fc4-5a385ac42dd3",
   "metadata": {},
   "outputs": [],
   "source": [
    "test_svd = svd_instance.fit_transform(test_sparse_df)"
   ]
  },
  {
   "cell_type": "code",
   "execution_count": 204,
   "id": "b9b65a12-8c93-48f8-8bbb-a36725e91f2c",
   "metadata": {},
   "outputs": [],
   "source": [
    "test_svd = pd.DataFrame(test_svd).head()"
   ]
  },
  {
   "cell_type": "code",
   "execution_count": 205,
   "id": "8aeb5aff-e521-407b-9849-dce972cbf0e9",
   "metadata": {},
   "outputs": [
    {
     "data": {
      "text/plain": [
       "(5, 350)"
      ]
     },
     "execution_count": 205,
     "metadata": {},
     "output_type": "execute_result"
    }
   ],
   "source": [
    "test_svd.shape"
   ]
  },
  {
   "cell_type": "markdown",
   "id": "0128181e-a0dd-438d-b310-d8c314b763cf",
   "metadata": {},
   "source": [
    "<font size=\"5\">Feature Selection : PCA</font>"
   ]
  },
  {
   "cell_type": "code",
   "execution_count": 206,
   "id": "1c75f22a-1c36-40de-afe9-ef2844db2f7c",
   "metadata": {},
   "outputs": [],
   "source": [
    "# pca = PCA(n_components = 500, random_state=1234,svd_solver=\"auto\")\n",
    "# x_pca = pca.fit_transform(train_df)\n",
    "# x_pca.shape\n",
    "# np.sum((pca.explained_variance_ratio_))\n",
    "# data = pd.DataFrame(x_reduced)\n",
    "# data.head()"
   ]
  },
  {
   "cell_type": "markdown",
   "id": "f5ba2574-a371-4a57-a254-446e8e321106",
   "metadata": {},
   "source": [
    "<font size=\"5\"> Splitting Data into Train and Test set</font>"
   ]
  },
  {
   "cell_type": "code",
   "execution_count": 207,
   "id": "d14a27e3-5104-4914-a2fa-7c266cd43c03",
   "metadata": {},
   "outputs": [],
   "source": [
    "X_train , X_test, y_train, y_test = train_test_split(train_svd, trainLabels_df, random_state=42, test_size=0.2)"
   ]
  },
  {
   "cell_type": "markdown",
   "id": "fa807da5-821d-4858-806b-26f1afc10d12",
   "metadata": {},
   "source": [
    "<font size=\"5\"> Decision Tree</font>"
   ]
  },
  {
   "cell_type": "code",
   "execution_count": 208,
   "id": "4dd8ec46-2886-41c6-a9d8-4fbbdba38ae5",
   "metadata": {},
   "outputs": [],
   "source": [
    "dtc = DecisionTreeClassifier(class_weight={0: 1, 1: 3}, random_state = 42)\n",
    "dtc.fit(X_train , y_train)\n",
    "y_hat = dtc.predict(X_test)"
   ]
  },
  {
   "cell_type": "code",
   "execution_count": 209,
   "id": "d5626255-1650-473d-8761-449f0e077956",
   "metadata": {},
   "outputs": [
    {
     "name": "stdout",
     "output_type": "stream",
     "text": [
      "              precision    recall  f1-score   support\n",
      "\n",
      "           0       0.95      0.96      0.95       144\n",
      "           1       0.57      0.50      0.53        16\n",
      "\n",
      "    accuracy                           0.91       160\n",
      "   macro avg       0.76      0.73      0.74       160\n",
      "weighted avg       0.91      0.91      0.91       160\n",
      "\n"
     ]
    }
   ],
   "source": [
    "print(classification_report(y_test,y_hat))"
   ]
  },
  {
   "cell_type": "code",
   "execution_count": 210,
   "id": "633bcfd3-f5b7-4daa-9ea0-cb0647080a91",
   "metadata": {},
   "outputs": [
    {
     "data": {
      "text/plain": [
       "array([[138,   6],\n",
       "       [  8,   8]])"
      ]
     },
     "execution_count": 210,
     "metadata": {},
     "output_type": "execute_result"
    }
   ],
   "source": [
    "confusion_matrix(y_test,y_hat)"
   ]
  },
  {
   "cell_type": "code",
   "execution_count": 211,
   "id": "65f1970b-52c1-48c7-9db6-468287ee0b37",
   "metadata": {},
   "outputs": [
    {
     "data": {
      "text/plain": [
       "0.7291666666666666"
      ]
     },
     "execution_count": 211,
     "metadata": {},
     "output_type": "execute_result"
    }
   ],
   "source": [
    "y_predict_proba = dtc.predict_proba(X_test)[:,-1]\n",
    "roc_auc_score(y_test,y_predict_proba)"
   ]
  },
  {
   "cell_type": "code",
   "execution_count": 212,
   "id": "5ec5a57e-1a79-4a68-abec-38c9ee7fe2b0",
   "metadata": {},
   "outputs": [
    {
     "data": {
      "image/png": "[encoded data removed]",
      "text/plain": [
       "<Figure size 432x288 with 1 Axes>"
      ]
     },
     "metadata": {
      "needs_background": "light"
     },
     "output_type": "display_data"
    }
   ],
   "source": [
    "plt.plot([0, 1], [0, 1], 'k--')\n",
    "plt.plot(fpr, tpr)\n",
    "plt.xlabel('False Positive Rate')\n",
    "plt.ylabel('True Positive Rate')\n",
    "plt.title('ROC Curve')\n",
    "plt.show()"
   ]
  },
  {
   "cell_type": "markdown",
   "id": "37084d23-19e6-4994-b9cb-cb50f87dbe11",
   "metadata": {},
   "source": [
    "<font size=\"5\"> Hyperparameter tuning using RandomizedSearchCV </font>"
   ]
  },
  {
   "cell_type": "code",
   "execution_count": 139,
   "id": "ecb539f7-3d0c-48d5-965d-db1f8d767bd5",
   "metadata": {},
   "outputs": [
    {
     "name": "stdout",
     "output_type": "stream",
     "text": [
      "              precision    recall  f1-score   support\n",
      "\n",
      "           0       0.90      1.00      0.95       144\n",
      "           1       0.00      0.00      0.00        16\n",
      "\n",
      "    accuracy                           0.90       160\n",
      "   macro avg       0.45      0.50      0.47       160\n",
      "weighted avg       0.81      0.90      0.85       160\n",
      "\n",
      "Tuned Decision Tree Parameters: {'criterion': 'entropy', 'max_depth': 16, 'min_samples_leaf': 213}\n",
      "Best score is 0.903125\n"
     ]
    },
    {
     "name": "stderr",
     "output_type": "stream",
     "text": [
      "/usr/local/anaconda3/lib/python3.8/site-packages/sklearn/model_selection/_validation.py:372: FitFailedWarning: \n",
      "25 fits failed out of a total of 50.\n",
      "The score on these train-test partitions for these parameters will be set to nan.\n",
      "If these failures are not expected, you can try to debug them by setting error_score='raise'.\n",
      "\n",
      "Below are more details about the failures:\n",
      "--------------------------------------------------------------------------------\n",
      "25 fits failed with the following error:\n",
      "Traceback (most recent call last):\n",
      "  File \"/usr/local/anaconda3/lib/python3.8/site-packages/sklearn/model_selection/_validation.py\", line 680, in _fit_and_score\n",
      "    estimator.fit(X_train, y_train, **fit_params)\n",
      "  File \"/usr/local/anaconda3/lib/python3.8/site-packages/sklearn/tree/_classes.py\", line 937, in fit\n",
      "    super().fit(\n",
      "  File \"/usr/local/anaconda3/lib/python3.8/site-packages/sklearn/tree/_classes.py\", line 306, in fit\n",
      "    raise ValueError(\"max_depth must be greater than zero. \")\n",
      "ValueError: max_depth must be greater than zero. \n",
      "\n",
      "  warnings.warn(some_fits_failed_message, FitFailedWarning)\n",
      "/usr/local/anaconda3/lib/python3.8/site-packages/sklearn/model_selection/_search.py:969: UserWarning: One or more of the test scores are non-finite: [      nan       nan 0.903125        nan 0.7921875 0.903125        nan\n",
      " 0.903125        nan 0.903125 ]\n",
      "  warnings.warn(\n",
      "/usr/local/anaconda3/lib/python3.8/site-packages/sklearn/metrics/_classification.py:1318: UndefinedMetricWarning: Precision and F-score are ill-defined and being set to 0.0 in labels with no predicted samples. Use `zero_division` parameter to control this behavior.\n",
      "  _warn_prf(average, modifier, msg_start, len(result))\n",
      "/usr/local/anaconda3/lib/python3.8/site-packages/sklearn/metrics/_classification.py:1318: UndefinedMetricWarning: Precision and F-score are ill-defined and being set to 0.0 in labels with no predicted samples. Use `zero_division` parameter to control this behavior.\n",
      "  _warn_prf(average, modifier, msg_start, len(result))\n",
      "/usr/local/anaconda3/lib/python3.8/site-packages/sklearn/metrics/_classification.py:1318: UndefinedMetricWarning: Precision and F-score are ill-defined and being set to 0.0 in labels with no predicted samples. Use `zero_division` parameter to control this behavior.\n",
      "  _warn_prf(average, modifier, msg_start, len(result))\n"
     ]
    }
   ],
   "source": [
    "param_dist = {\"max_depth\":[0,16],\n",
    "              \"min_samples_leaf\": randint(1, 1000),\n",
    "              \"criterion\": [\"gini\", \"entropy\"]}\n",
    "tree_cv = RandomizedSearchCV(dtc, param_dist, cv=5)\n",
    "tree_cv.fit(X_train,y_train)\n",
    "y_hat = tree_cv.predict(X_test)\n",
    "print(classification_report(y_test,y_hat))\n",
    "print(\"Tuned Decision Tree Parameters: {}\".format(tree_cv.best_params_))\n",
    "print(\"Best score is {}\".format(tree_cv.best_score_))"
   ]
  },
  {
   "cell_type": "code",
   "execution_count": 140,
   "id": "39650ac0-ffba-4235-bf6e-06623dfae5a0",
   "metadata": {},
   "outputs": [
    {
     "data": {
      "text/plain": [
       "0.7825520833333333"
      ]
     },
     "execution_count": 140,
     "metadata": {},
     "output_type": "execute_result"
    }
   ],
   "source": [
    "y_predict_proba = tree_cv.predict_proba(X_test)[:,-1]\n",
    "roc_auc_score(y_test,y_predict_proba)"
   ]
  },
  {
   "cell_type": "code",
   "execution_count": 141,
   "id": "94d2a0eb-c92c-4cdd-9b8c-b0b06824a7a2",
   "metadata": {},
   "outputs": [
    {
     "data": {
      "image/png": "[encoded data removed]",
      "text/plain": [
       "<Figure size 432x288 with 1 Axes>"
      ]
     },
     "metadata": {
      "needs_background": "light"
     },
     "output_type": "display_data"
    }
   ],
   "source": [
    "plt.plot([0, 1], [0, 1], 'k--')\n",
    "plt.plot(fpr, tpr)\n",
    "plt.xlabel('False Positive Rate')\n",
    "plt.ylabel('True Positive Rate')\n",
    "plt.title('ROC Curve')\n",
    "plt.show()"
   ]
  },
  {
   "cell_type": "code",
   "execution_count": 40,
   "id": "e5450450-04d7-4aae-b20e-c08cb891ff80",
   "metadata": {},
   "outputs": [],
   "source": [
    "# testFile=open('output.txt','w')\n",
    "# for element in y_hat:\n",
    "#         if element == 0:\n",
    "#             testFile.write('0')\n",
    "#         else:\n",
    "#             testFile.write('1')\n",
    "#         testFile.write('\\n')\n",
    "# testFile.close()"
   ]
  },
  {
   "cell_type": "markdown",
   "id": "c33cac24-5a4a-411a-8b9f-62ec849b5529",
   "metadata": {},
   "source": [
    "<font size=\"5\">  Knn  </font>"
   ]
  },
  {
   "cell_type": "code",
   "execution_count": 135,
   "id": "44a5ecaa-88e6-4c57-9fde-a9b1454ff53a",
   "metadata": {},
   "outputs": [],
   "source": [
    "knn = KNeighborsClassifier(n_neighbors=100)\n",
    "knn.fit(X_train,y_train)\n",
    "y_hat = knn.predict(X_test)"
   ]
  },
  {
   "cell_type": "code",
   "execution_count": 136,
   "id": "0b616214-4ae0-450c-9658-16ce39de2d79",
   "metadata": {},
   "outputs": [
    {
     "name": "stdout",
     "output_type": "stream",
     "text": [
      "              precision    recall  f1-score   support\n",
      "\n",
      "           0       0.90      1.00      0.95       144\n",
      "           1       0.00      0.00      0.00        16\n",
      "\n",
      "    accuracy                           0.90       160\n",
      "   macro avg       0.45      0.50      0.47       160\n",
      "weighted avg       0.81      0.90      0.85       160\n",
      "\n"
     ]
    },
    {
     "name": "stderr",
     "output_type": "stream",
     "text": [
      "/usr/local/anaconda3/lib/python3.8/site-packages/sklearn/metrics/_classification.py:1318: UndefinedMetricWarning: Precision and F-score are ill-defined and being set to 0.0 in labels with no predicted samples. Use `zero_division` parameter to control this behavior.\n",
      "  _warn_prf(average, modifier, msg_start, len(result))\n",
      "/usr/local/anaconda3/lib/python3.8/site-packages/sklearn/metrics/_classification.py:1318: UndefinedMetricWarning: Precision and F-score are ill-defined and being set to 0.0 in labels with no predicted samples. Use `zero_division` parameter to control this behavior.\n",
      "  _warn_prf(average, modifier, msg_start, len(result))\n",
      "/usr/local/anaconda3/lib/python3.8/site-packages/sklearn/metrics/_classification.py:1318: UndefinedMetricWarning: Precision and F-score are ill-defined and being set to 0.0 in labels with no predicted samples. Use `zero_division` parameter to control this behavior.\n",
      "  _warn_prf(average, modifier, msg_start, len(result))\n"
     ]
    }
   ],
   "source": [
    "print(classification_report(y_test,y_hat))"
   ]
  },
  {
   "cell_type": "code",
   "execution_count": 137,
   "id": "14e3085e-0fb3-42bb-9634-32d25070053d",
   "metadata": {},
   "outputs": [
    {
     "data": {
      "text/plain": [
       "0.8559027777777777"
      ]
     },
     "execution_count": 137,
     "metadata": {},
     "output_type": "execute_result"
    }
   ],
   "source": [
    "y_predict_proba = knn.predict_proba(X_test)[:,-1]\n",
    "roc_auc_score(y_test,y_predict_proba)"
   ]
  },
  {
   "cell_type": "code",
   "execution_count": 138,
   "id": "bfded796-03b7-40cc-ae32-1223c59cc3ac",
   "metadata": {},
   "outputs": [
    {
     "data": {
      "image/png": "[encoded data removed]",
      "text/plain": [
       "<Figure size 432x288 with 1 Axes>"
      ]
     },
     "metadata": {
      "needs_background": "light"
     },
     "output_type": "display_data"
    }
   ],
   "source": [
    "plt.plot([0, 1], [0, 1], 'k--')\n",
    "plt.plot(fpr, tpr)\n",
    "plt.xlabel('False Positive Rate')\n",
    "plt.ylabel('True Positive Rate')\n",
    "plt.title('ROC Curve')\n",
    "plt.show()"
   ]
  },
  {
   "cell_type": "code",
   "execution_count": 46,
   "id": "d4a56d4a-9d8c-4328-b661-d1b2cc22ab1a",
   "metadata": {},
   "outputs": [],
   "source": [
    "# testFile=open('output.txt','w')\n",
    "# for element in y_hat:\n",
    "#         if element == 0:\n",
    "#             testFile.write('0')\n",
    "#         else:\n",
    "#             testFile.write('1')\n",
    "#         testFile.write('\\n')\n",
    "# testFile.close()"
   ]
  },
  {
   "cell_type": "markdown",
   "id": "e5c3c276-c666-4804-9ac1-c24ca8ba08a1",
   "metadata": {},
   "source": [
    "<font size=\"5\"> RandomForest</font>"
   ]
  },
  {
   "cell_type": "code",
   "execution_count": 126,
   "id": "db4a3aab-468b-4689-b079-3effe7d11421",
   "metadata": {},
   "outputs": [],
   "source": [
    "rfc = RandomForestClassifier(n_estimators=500,oob_score=True)"
   ]
  },
  {
   "cell_type": "code",
   "execution_count": 127,
   "id": "c97efb3f-7cf2-4f72-b48b-608463ef1a96",
   "metadata": {},
   "outputs": [
    {
     "data": {
      "text/plain": [
       "RandomForestClassifier(n_estimators=500, oob_score=True)"
      ]
     },
     "execution_count": 127,
     "metadata": {},
     "output_type": "execute_result"
    }
   ],
   "source": [
    "rfc.fit(X_train,y_train)"
   ]
  },
  {
   "cell_type": "code",
   "execution_count": 128,
   "id": "40afb608-a960-4ad8-a689-8b04aa804323",
   "metadata": {},
   "outputs": [],
   "source": [
    "y_hat = rfc.predict(X_test)"
   ]
  },
  {
   "cell_type": "code",
   "execution_count": 129,
   "id": "9aaa5614-80d8-40ea-9887-dd257d57e2fe",
   "metadata": {},
   "outputs": [
    {
     "name": "stdout",
     "output_type": "stream",
     "text": [
      "              precision    recall  f1-score   support\n",
      "\n",
      "           0       0.92      0.99      0.95       144\n",
      "           1       0.75      0.19      0.30        16\n",
      "\n",
      "    accuracy                           0.91       160\n",
      "   macro avg       0.83      0.59      0.63       160\n",
      "weighted avg       0.90      0.91      0.89       160\n",
      "\n"
     ]
    }
   ],
   "source": [
    "print(classification_report(y_test,y_hat))"
   ]
  },
  {
   "cell_type": "code",
   "execution_count": 130,
   "id": "6e83d4f2-d39f-4536-91dc-ae8f3ccca33c",
   "metadata": {},
   "outputs": [
    {
     "data": {
      "text/plain": [
       "0.9109375"
      ]
     },
     "execution_count": 130,
     "metadata": {},
     "output_type": "execute_result"
    }
   ],
   "source": [
    "rfc.oob_score_"
   ]
  },
  {
   "cell_type": "code",
   "execution_count": 133,
   "id": "19d06ad0-8640-4561-8909-a0aedad0551d",
   "metadata": {},
   "outputs": [
    {
     "data": {
      "text/plain": [
       "0.9290364583333334"
      ]
     },
     "execution_count": 133,
     "metadata": {},
     "output_type": "execute_result"
    }
   ],
   "source": [
    "y_predict_proba = rfc.predict_proba(X_test)[:,-1]\n",
    "roc_auc_score(y_test,y_predict_proba)"
   ]
  },
  {
   "cell_type": "code",
   "execution_count": 134,
   "id": "8c5c30be-57bd-43ec-a7e2-594d7929e4f6",
   "metadata": {},
   "outputs": [
    {
     "data": {
      "image/png": "[encoded data removed]",
      "text/plain": [
       "<Figure size 432x288 with 1 Axes>"
      ]
     },
     "metadata": {
      "needs_background": "light"
     },
     "output_type": "display_data"
    }
   ],
   "source": [
    "plt.plot([0, 1], [0, 1], 'k--')\n",
    "plt.plot(fpr, tpr)\n",
    "plt.xlabel('False Positive Rate')\n",
    "plt.ylabel('True Positive Rate')\n",
    "plt.title('ROC Curve')\n",
    "plt.show()"
   ]
  },
  {
   "cell_type": "code",
   "execution_count": 121,
   "id": "63ee9e3f-f305-465d-b157-d060a00f509f",
   "metadata": {},
   "outputs": [],
   "source": [
    "adbc = AdaBoostClassifier(n_estimators=500,random_state=42)\n",
    "adbc.fit(X_train,y_train)\n",
    "y_hat = adbc.predict(X_test)"
   ]
  },
  {
   "cell_type": "code",
   "execution_count": 122,
   "id": "54116d99-29c5-41ec-a703-ed76f10958e1",
   "metadata": {},
   "outputs": [
    {
     "name": "stdout",
     "output_type": "stream",
     "text": [
      "              precision    recall  f1-score   support\n",
      "\n",
      "           0       0.96      0.99      0.97       144\n",
      "           1       0.83      0.62      0.71        16\n",
      "\n",
      "    accuracy                           0.95       160\n",
      "   macro avg       0.90      0.81      0.84       160\n",
      "weighted avg       0.95      0.95      0.95       160\n",
      "\n"
     ]
    }
   ],
   "source": [
    "print(classification_report(y_test,y_hat))"
   ]
  },
  {
   "cell_type": "code",
   "execution_count": 123,
   "id": "b3e7d1e7-59f5-4219-9eb9-82f0c40d71f6",
   "metadata": {},
   "outputs": [
    {
     "data": {
      "text/plain": [
       "0.9418402777777778"
      ]
     },
     "execution_count": 123,
     "metadata": {},
     "output_type": "execute_result"
    }
   ],
   "source": [
    "y_predict_proba = adbc.predict_proba(X_test)[:,-1]\n",
    "roc_auc_score(y_test,y_predict_proba)"
   ]
  },
  {
   "cell_type": "code",
   "execution_count": 124,
   "id": "9fa235df-5ee9-4fd3-a637-228095f490f3",
   "metadata": {},
   "outputs": [
    {
     "data": {
      "image/png": "[encoded data removed]",
      "text/plain": [
       "<Figure size 432x288 with 1 Axes>"
      ]
     },
     "metadata": {
      "needs_background": "light"
     },
     "output_type": "display_data"
    }
   ],
   "source": [
    "plt.plot([0, 1], [0, 1], 'k--')\n",
    "plt.plot(fpr, tpr)\n",
    "plt.xlabel('False Positive Rate')\n",
    "plt.ylabel('True Positive Rate')\n",
    "plt.title('ROC Curve')\n",
    "plt.show()"
   ]
  },
  {
   "cell_type": "markdown",
   "id": "73b664f2-8cdf-4960-8362-ccc122b7744b",
   "metadata": {},
   "source": [
    "<font size=\"5\"> XGBoost</font>"
   ]
  },
  {
   "cell_type": "code",
   "execution_count": 56,
   "id": "59f984d1-483e-4708-a560-a40cc718b733",
   "metadata": {},
   "outputs": [
    {
     "ename": "NameError",
     "evalue": "name 'XGBClassifier' is not defined",
     "output_type": "error",
     "traceback": [
      "\u001b[0;31m---------------------------------------------------------------------------\u001b[0m",
      "\u001b[0;31mNameError\u001b[0m                                 Traceback (most recent call last)",
      "\u001b[0;32m<ipython-input-56-d2335187eeb8>\u001b[0m in \u001b[0;36m<module>\u001b[0;34m\u001b[0m\n\u001b[0;32m----> 1\u001b[0;31m \u001b[0mxgbc\u001b[0m \u001b[0;34m=\u001b[0m \u001b[0mXGBClassifier\u001b[0m\u001b[0;34m(\u001b[0m\u001b[0;34m)\u001b[0m\u001b[0;34m\u001b[0m\u001b[0;34m\u001b[0m\u001b[0m\n\u001b[0m\u001b[1;32m      2\u001b[0m \u001b[0mxgbc\u001b[0m\u001b[0;34m.\u001b[0m\u001b[0mfit\u001b[0m\u001b[0;34m(\u001b[0m\u001b[0mX_train\u001b[0m\u001b[0;34m,\u001b[0m \u001b[0my_train\u001b[0m\u001b[0;34m)\u001b[0m\u001b[0;34m\u001b[0m\u001b[0;34m\u001b[0m\u001b[0m\n\u001b[1;32m      3\u001b[0m \u001b[0my_hat\u001b[0m \u001b[0;34m=\u001b[0m \u001b[0mxgbc\u001b[0m\u001b[0;34m.\u001b[0m\u001b[0mpredict\u001b[0m\u001b[0;34m(\u001b[0m\u001b[0mX_test\u001b[0m\u001b[0;34m)\u001b[0m\u001b[0;34m\u001b[0m\u001b[0;34m\u001b[0m\u001b[0m\n",
      "\u001b[0;31mNameError\u001b[0m: name 'XGBClassifier' is not defined"
     ]
    }
   ],
   "source": [
    "# xgbc = XGBClassifier()\n",
    "# xgbc.fit(X_train, y_train)\n",
    "# y_hat = xgbc.predict(X_test)"
   ]
  },
  {
   "cell_type": "code",
   "execution_count": null,
   "id": "0bf3fea2-64dd-4fe4-a06c-1a20a11a0243",
   "metadata": {},
   "outputs": [],
   "source": [
    "print(classification_report(y_test,y_hat))"
   ]
  },
  {
   "cell_type": "markdown",
   "id": "f3914282-a04f-4601-b784-f0fa4e7eb381",
   "metadata": {},
   "source": [
    "<font size=\"5\"> SVM</font>"
   ]
  },
  {
   "cell_type": "code",
   "execution_count": 117,
   "id": "ee8d440b-377b-45c5-930b-aec700ed86d2",
   "metadata": {},
   "outputs": [],
   "source": [
    "clf = SVC(kernel='linear', class_weight={0: 1, 1: 3}, random_state = 42)\n",
    "clf.fit(X_train,y_train)\n",
    "y_hat = clf.predict(X_test)"
   ]
  },
  {
   "cell_type": "code",
   "execution_count": 118,
   "id": "9d557add-3976-47a2-a10d-b10139f83db4",
   "metadata": {},
   "outputs": [
    {
     "name": "stdout",
     "output_type": "stream",
     "text": [
      "              precision    recall  f1-score   support\n",
      "\n",
      "           0       0.92      0.99      0.96       144\n",
      "           1       0.80      0.25      0.38        16\n",
      "\n",
      "    accuracy                           0.92       160\n",
      "   macro avg       0.86      0.62      0.67       160\n",
      "weighted avg       0.91      0.92      0.90       160\n",
      "\n"
     ]
    }
   ],
   "source": [
    "print(classification_report(y_test,y_hat))"
   ]
  },
  {
   "cell_type": "code",
   "execution_count": 119,
   "id": "5c81350b-e39f-4166-982c-69fb01f95d62",
   "metadata": {},
   "outputs": [
    {
     "data": {
      "text/plain": [
       "array([[143,   1],\n",
       "       [ 12,   4]])"
      ]
     },
     "execution_count": 119,
     "metadata": {},
     "output_type": "execute_result"
    }
   ],
   "source": [
    "confusion_matrix(y_test,y_hat)"
   ]
  },
  {
   "cell_type": "markdown",
   "id": "5052a2e6-47b6-4246-add9-04d47cdbadfd",
   "metadata": {},
   "source": [
    "<font size=\"5\">Logistic Regression</font>"
   ]
  },
  {
   "cell_type": "code",
   "execution_count": 93,
   "id": "5e62b09a-8112-4c9a-8816-55a862e2de76",
   "metadata": {},
   "outputs": [
    {
     "name": "stderr",
     "output_type": "stream",
     "text": [
      "/usr/local/anaconda3/lib/python3.8/site-packages/sklearn/linear_model/_sag.py:352: ConvergenceWarning: The max_iter was reached which means the coef_ did not converge\n",
      "  warnings.warn(\n"
     ]
    }
   ],
   "source": [
    "logreg = LogisticRegression(solver = 'saga',random_state = 42 , penalty = 'l1')\n",
    "logreg.fit(X_train,y_train)\n",
    "y_hat = logreg.predict(X_test)"
   ]
  },
  {
   "cell_type": "code",
   "execution_count": 94,
   "id": "f75d519e-e7cb-418e-95b1-21a22da4b019",
   "metadata": {},
   "outputs": [
    {
     "name": "stdout",
     "output_type": "stream",
     "text": [
      "              precision    recall  f1-score   support\n",
      "\n",
      "           0       0.93      0.99      0.96       144\n",
      "           1       0.83      0.31      0.45        16\n",
      "\n",
      "    accuracy                           0.93       160\n",
      "   macro avg       0.88      0.65      0.71       160\n",
      "weighted avg       0.92      0.93      0.91       160\n",
      "\n"
     ]
    }
   ],
   "source": [
    "print(classification_report(y_test,y_hat))"
   ]
  },
  {
   "cell_type": "code",
   "execution_count": 95,
   "id": "8d5579bf-8fea-4d6d-b000-ceac522bb11a",
   "metadata": {},
   "outputs": [
    {
     "data": {
      "text/plain": [
       "array([[143,   1],\n",
       "       [ 11,   5]])"
      ]
     },
     "execution_count": 95,
     "metadata": {},
     "output_type": "execute_result"
    }
   ],
   "source": [
    "confusion_matrix(y_test,y_hat)"
   ]
  },
  {
   "cell_type": "code",
   "execution_count": 147,
   "id": "e9917f5f-7f2d-4646-895a-ae984c136edf",
   "metadata": {},
   "outputs": [
    {
     "data": {
      "text/plain": [
       "0.9444444444444444"
      ]
     },
     "execution_count": 147,
     "metadata": {},
     "output_type": "execute_result"
    }
   ],
   "source": [
    "y_predict_proba = logreg.predict_proba(X_test)[:,-1]\n",
    "roc_auc_score(y_test,y_predict_proba)"
   ]
  },
  {
   "cell_type": "code",
   "execution_count": 148,
   "id": "e59d2881-1b05-4136-b8a9-bb982a71e1d9",
   "metadata": {},
   "outputs": [
    {
     "data": {
      "image/png": "[encoded data removed]",
      "text/plain": [
       "<Figure size 432x288 with 1 Axes>"
      ]
     },
     "metadata": {
      "needs_background": "light"
     },
     "output_type": "display_data"
    }
   ],
   "source": [
    "plt.plot([0, 1], [0, 1], 'k--')\n",
    "plt.plot(fpr, tpr)\n",
    "plt.xlabel('False Positive Rate')\n",
    "plt.ylabel('True Positive Rate')\n",
    "plt.title('Logistic Regression ROC Curve')\n",
    "plt.show()"
   ]
  },
  {
   "cell_type": "markdown",
   "id": "5a766a8e-492e-4d00-982c-c6900568ccdc",
   "metadata": {},
   "source": [
    "<font size=\"5\">Use this to run any classifer on test data </font>"
   ]
  },
  {
   "cell_type": "code",
   "execution_count": null,
   "id": "0f0b39ec-908a-46d6-a133-9b51e2cbc56a",
   "metadata": {},
   "outputs": [],
   "source": [
    "# y_pred = \"Add classfier here\".predict(test_svd)\n",
    "# testFile=open('output.txt','w')\n",
    "# for element in y_hat:\n",
    "#         if element == 0:\n",
    "#             testFile.write('0')\n",
    "#         else:\n",
    "#             testFile.write('1')\n",
    "#         testFile.write('\\n')\n",
    "# testFile.close()"
   ]
  }
 ],
 "metadata": {
  "kernelspec": {
   "display_name": "Python 3",
   "language": "python",
   "name": "python3"
  },
  "language_info": {
   "codemirror_mode": {
    "name": "ipython",
    "version": 3
   },
   "file_extension": ".py",
   "mimetype": "text/x-python",
   "name": "python",
   "nbconvert_exporter": "python",
   "pygments_lexer": "ipython3",
   "version": "3.8.8"
  }
 },
 "nbformat": 4,
 "nbformat_minor": 5
}
